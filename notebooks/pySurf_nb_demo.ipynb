{
 "cells": [
  {
   "cell_type": "code",
   "execution_count": null,
   "metadata": {},
   "outputs": [],
   "source": [
    "import os\n",
    "from pathlib import Path\n",
    "\n",
    "import pyXsurf.pySurf.demo_module as psdm\n",
    "\n",
    "# Use an environment variable to set the path to the notebooks\n",
    "# This is useful when running the notebooks from a different directory\n",
    "# than the one containing the notebooks\n",
    "PYXSURF_NOTEBOOKS_PATH = Path(os.environ.get(\"PYXSURF_NOTEBOOKS_PATH\", \".\"))"
   ]
  },
  {
   "cell_type": "code",
   "execution_count": null,
   "metadata": {},
   "outputs": [],
   "source": [
    "def function():\n",
    "    return psdm.function()"
   ]
  },
  {
   "cell_type": "code",
   "execution_count": null,
   "metadata": {},
   "outputs": [],
   "source": [
    "def data_function():\n",
    "    return psdm.data_function()\n",
    "\n",
    "\n",
    "def common_data_function():\n",
    "    return psdm.common_data_function()"
   ]
  },
  {
   "cell_type": "code",
   "execution_count": null,
   "metadata": {},
   "outputs": [],
   "source": [
    "def nb_test_data():\n",
    "    with open(PYXSURF_NOTEBOOKS_PATH / \"data\" / \"nb_test_data.txt\", \"r\") as f:\n",
    "        return f.read()"
   ]
  }
 ],
 "metadata": {
  "language_info": {
   "name": "python"
  }
 },
 "nbformat": 4,
 "nbformat_minor": 2
}
