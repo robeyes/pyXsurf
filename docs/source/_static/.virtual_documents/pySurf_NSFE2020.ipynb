%load_ext autoreload
%autoreload 2

import os 
import numpy as np
from matplotlib import pyplot as plt











from traitlets.config.manager import BaseJSONConfigManager
from pathlib import Path
path = Path.home() / ".jupyter" / "nbconfig"
cm = BaseJSONConfigManager(config_dir=str(path))
cm.update(
    "rise",
    {
        "theme": "sky",
        "transition": "slide",
        "start_slideshow_at": "selected",
        "width": "90%",
        "display": "inline-block",
        "font-size": "0.6em",
        "line-height": "1.2em",
        "vertical-align": "top",
        "header": "<h3>HNSFE 2020 - 2020/09/25</h3>",
        "footer": "<h3>V. Cotroneo - INAF/Osservatorio Astronomico di Brera</h3>"
     }
)






























































# {"backimage": "material\logos\logos.png"}




















# This is just used to define data, x, y from data file

from pySurf.readers.instrumentReader import matrix_reader

f = r'material\AFM_images\M12 no corona 50 nc.dat'

data,x,y = matrix_reader(f,delimiter='',skip_header=4)



from pySurf.data2D_class import Data2D

D = Data2D(data,x,y,units=['um','um','nm'],scale=[1,1,1.e9],name=os.path.basename(f))  # data,x,y previously read from .dat file





D.plot(stats=1)








D.level?





plt.figure(2)
D.level().plot(stats=1) # remove plan, stats controls the info box





D.level().histostats();  # data after plane removal





plt.figure(3)
Dl = D.level().level(2,axis=1)
Dl.plot(stats=1)





plt.figure()
Dl.remove_outliers(nsigma =3).plot()


Dl.remove_outliers(nsigma=3).histostats();


Dl.plot()





Dl = D.level().level(2,axis=1).remove_outliers(nsigma =3).level(2,axis=1)

Dl.plot()


Dl.histostats();








from pyProfile.profile_class import Profile

ypos = [50,100,150,200] 

plist = []  # make a list of profiles

for y in ypos:    # populate the list for the positions in y using `Data2D.extract_profile`.
    plist.append(Profile(*Dl.extract_profile([10,y],[240,y],along=True),name = y))


for pp in plist:
    pp.level(zero='top').plot()

plt.grid()
plt.legend(loc=0)





ps = Dl.psd(analysis=True)


ps.plot()


from pyProfile.psd import plot_psd

plot_psd(*ps.avgpsd())

















Data2D.slope?


















