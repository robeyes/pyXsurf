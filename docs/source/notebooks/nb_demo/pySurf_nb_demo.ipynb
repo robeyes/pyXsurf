{
 "cells": [
  {
   "cell_type": "code",
   "execution_count": null,
   "metadata": {},
   "outputs": [],
   "source": [
    "import os\n",
    "from pathlib import Path\n",
    "\n",
    "import pySurf.demo_module as psdm"
   ]
  },
  {
   "cell_type": "code",
   "execution_count": null,
   "metadata": {},
   "outputs": [],
   "source": [
    "def function():\n",
    "    return psdm.function()"
   ]
  },
  {
   "cell_type": "code",
   "execution_count": null,
   "metadata": {},
   "outputs": [],
   "source": [
    "def data_function():\n",
    "    return psdm.data_function()\n",
    "\n",
    "\n",
    "def common_data_function():\n",
    "    return psdm.common_data_function()"
   ]
  },
  {
   "cell_type": "code",
   "execution_count": null,
   "metadata": {},
   "outputs": [],
   "source": [
    "def nb_test_data():\n",
    "    with open(\"nb_test_data.txt\", \"r\") as f:\n",
    "        return f.read()"
   ]
  }
 ],
 "metadata": {
  "language_info": {
   "name": "python"
  }
 },
 "nbformat": 4,
 "nbformat_minor": 2
}
