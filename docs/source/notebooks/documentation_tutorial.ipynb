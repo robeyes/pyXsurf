{
 "cells": [
  {
   "cell_type": "markdown",
   "metadata": {},
   "source": [
    "## Workflow for RISE presentation from Jupyter notebook\n",
    "\n",
    "\n",
    "### Test local\n",
    "\n",
    "\n",
    "with VScode (no preview)\n",
    "\n",
    "visualize html and html_slides. \n",
    "with anaconda (env ``develop``) \n",
    "\n",
    "\n",
    "```console\n",
    "$ echo \"Hello, World!\"\n",
    "Hello, World!\n",
    "\n",
    "\n",
    "\n",
    "### Test on web\n",
    "\n",
    "### pdf"
   ]
  },
  {
   "cell_type": "code",
   "execution_count": null,
   "metadata": {},
   "outputs": [],
   "source": [
    "# 2023/11/22 Template/Experiment for a guide to docs development.\n"
   ]
  },
  {
   "cell_type": "markdown",
   "metadata": {},
   "source": [
    "Advided Jupyter Lab\n",
    "\n",
    "    >conda install -c conda-forge jupyter_contrib_nbextensions\n",
    "\n"
   ]
  },
  {
   "cell_type": "markdown",
   "metadata": {},
   "source": [
    "## Install RISE\n",
    "\n",
    "\n",
    "\n",
    "To install RISE (https://github.com/jupyterlab-contrib/rise):\n",
    "\n",
    "    >conda install -c conda-forge rise\n",
    "\n",
    "or: \n",
    "\n",
    "    >pip install rise"
   ]
  },
  {
   "cell_type": "markdown",
   "metadata": {},
   "source": [
    "Typical sequence of git commands to an update to documentation:\n",
    "\n",
    "    693  git status\n",
    "    694  git add -A\n",
    "    695  git commit --amend\n",
    "    696  git push -f origin master\n",
    "    697  git status\n",
    "\n",
    "The above assumes single user on github, as the online history is modified and can create conflict in case of cuncurrent changes. A safer way is to replace the commit with:\n",
    "\n",
    "    695  git commit -m \"small changes to docs\"\n",
    "  \n",
    "Which will create a new commit point without overwriting the previous one (but also a long line of commits).\n",
    "\n",
    "\n",
    "Guida Virtual Environments\n",
    "----------------------------\n",
    "\n",
    "https://www.geeksforgeeks.org/set-up-virtual-environment-for-python-using-anaconda/"
   ]
  }
 ],
 "metadata": {
  "language_info": {
   "name": "python"
  }
 },
 "nbformat": 4,
 "nbformat_minor": 2
}
