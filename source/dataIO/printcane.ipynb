{
 "cells": [
  {
   "cell_type": "code",
   "execution_count": 21,
   "metadata": {},
   "outputs": [
    {
     "name": "stdout",
     "output_type": "stream",
     "text": [
      "\n",
      "We are listing out only the directories in current directory -\n",
      "['.pytest_cache', 'config', 'logging_test', 'test', '__pycache__']\n"
     ]
    }
   ],
   "source": [
    "print(\"\\nWe are listing out only the directories in current directory -\")\n",
    "print(list(filter(os.path.isdir, os.listdir(os.curdir))))"
   ]
  },
  {
   "cell_type": "markdown",
   "metadata": {},
   "source": [
    "Da questa cartella funziona, ma se si lancia da  da cartella superiore (es. logging_test)"
   ]
  },
  {
   "cell_type": "markdown",
   "metadata": {},
   "source": []
  }
 ],
 "metadata": {
  "interpreter": {
   "hash": "93ea9d10f7f87b1e5617a57d4a8ab277b3fe27d6335131d8465f1dce28e19dbb"
  },
  "kernelspec": {
   "display_name": "Python 3.8.8 ('folder_explorer')",
   "language": "python",
   "name": "python3"
  },
  "language_info": {
   "codemirror_mode": {
    "name": "ipython",
    "version": 3
   },
   "file_extension": ".py",
   "mimetype": "text/x-python",
   "name": "python",
   "nbconvert_exporter": "python",
   "pygments_lexer": "ipython3",
   "version": "3.8.8"
  },
  "orig_nbformat": 4
 },
 "nbformat": 4,
 "nbformat_minor": 2
}
