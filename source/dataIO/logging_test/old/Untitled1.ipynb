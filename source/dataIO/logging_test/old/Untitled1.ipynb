{
 "cells": [
  {
   "cell_type": "code",
   "execution_count": null,
   "id": "65376b69-00c7-4310-9772-6a1c817c9d87",
   "metadata": {},
   "outputs": [],
   "source": [
    "print('cane')"
   ]
  },
  {
   "cell_type": "code",
   "execution_count": 1,
   "id": "7e2e2ba3-082b-4c7e-b43d-8c1e45fb8a91",
   "metadata": {},
   "outputs": [
    {
     "data": {
      "text/plain": [
       "'D:\\\\dati\\\\ordine\\\\programmazione\\\\pythonprogrammingnotes\\\\logging'"
      ]
     },
     "execution_count": 1,
     "metadata": {},
     "output_type": "execute_result"
    }
   ],
   "source": [
    "# test of the misterious logging module\n",
    "\n",
    "\"D:\\dati\\ordine\\programmazione\\pythonprogrammingnotes\\logging\""
   ]
  },
  {
   "cell_type": "code",
   "execution_count": null,
   "id": "f691b8b2-4557-4e73-a474-3bffaaa6c6c8",
   "metadata": {},
   "outputs": [
    {
     "ename": "",
     "evalue": "",
     "output_type": "error",
     "traceback": [
      "\u001b[1;31mFailed to start the Kernel. \n",
      "AttributeError: partially initialized module 'logging' has no attribute 'getLogger' (most likely due to a circular import). \n",
      "View Jupyter <a href='command:jupyter.viewOutput'>log</a> for further details."
     ]
    }
   ],
   "source": [
    "%reset"
   ]
  },
  {
   "cell_type": "code",
   "execution_count": 25,
   "id": "c322fe05-200d-4f7b-9fe1-e2729b4b3c96",
   "metadata": {},
   "outputs": [
    {
     "name": "stdout",
     "output_type": "stream",
     "text": [
      "The autoreload extension is already loaded. To reload it, use:\n",
      "  %reload_ext autoreload\n"
     ]
    }
   ],
   "source": [
    "%load_ext autoreload\n",
    "%autoreload 2"
   ]
  },
  {
   "cell_type": "code",
   "execution_count": 26,
   "id": "251e047b-2d34-4694-9186-95f657558d5c",
   "metadata": {},
   "outputs": [],
   "source": [
    "import logging"
   ]
  }
 ],
 "metadata": {
  "kernelspec": {
   "display_name": "Python 3",
   "language": "python",
   "name": "python3"
  },
  "language_info": {
   "name": ""
  },
  "widgets": {
   "application/vnd.jupyter.widget-state+json": {
    "state": {},
    "version_major": 2,
    "version_minor": 0
   }
  }
 },
 "nbformat": 4,
 "nbformat_minor": 5
}
