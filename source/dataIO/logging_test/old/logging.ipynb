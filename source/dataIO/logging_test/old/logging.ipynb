{
 "cells": [
  {
   "cell_type": "code",
   "execution_count": null,
   "metadata": {},
   "outputs": [],
   "source": [
    "print('cane')"
   ]
  },
  {
   "cell_type": "code",
   "execution_count": null,
   "metadata": {},
   "outputs": [],
   "source": [
    "%reset"
   ]
  },
  {
   "cell_type": "code",
   "execution_count": null,
   "metadata": {},
   "outputs": [],
   "source": [
    "%load_ext autoreload\n",
    "%autoreload 2"
   ]
  },
  {
   "cell_type": "code",
   "execution_count": 5,
   "metadata": {},
   "outputs": [],
   "source": [
    "import logging"
   ]
  },
  {
   "cell_type": "markdown",
   "metadata": {},
   "source": [
    "## Logger Names\n",
    "\n",
    "Starting from obvious source https://docs.python.org/3/howto/logging.html most minimalistic example:"
   ]
  },
  {
   "cell_type": "code",
   "execution_count": 6,
   "metadata": {},
   "outputs": [
    {
     "name": "stderr",
     "output_type": "stream",
     "text": [
      "WARNING:root:This is a warning message\n"
     ]
    }
   ],
   "source": [
    "logging.basicConfig(level=logging.DEBUG)\n",
    "logging.warning('This is a warning message') "
   ]
  },
  {
   "cell_type": "markdown",
   "metadata": {},
   "source": [
    "there are a bunch of operations I can do with these few lines: I have set the level for which we have a log, and i implicitely chose to output on console (I didn't include a filename argument in calling ``.basicConfig``).\n",
    "\n",
    "I can control output format: \n",
    "\n",
    "    logging.basicConfig(format='%(levelname)s:%(message)s', level=logging.DEBUG)"
   ]
  },
  {
   "cell_type": "markdown",
   "metadata": {},
   "source": [
    "Here is a list of format codes which can be used, \n",
    "https://docs.python.org/3/library/logging.html#logrecord-attributes,\n",
    "you can even modify colors or font formats (on supported terminals)."
   ]
  },
  {
   "cell_type": "markdown",
   "metadata": {},
   "source": [
    "For example, next lines modify format of WARNING messages only (bold, red), works e.g. in IPython terminal. "
   ]
  },
  {
   "cell_type": "code",
   "execution_count": 7,
   "metadata": {},
   "outputs": [
    {
     "name": "stderr",
     "output_type": "stream",
     "text": [
      "\u001b[1;31mWARNING\u001b[1;0m:root:This is a warning message\n",
      "ERROR:root:This is an error message\n",
      "DEBUG:root:This is an debug message\n"
     ]
    }
   ],
   "source": [
    "logging.basicConfig(format='%(asctime)s %(message)s') #this applies to current level DEBUG, but doens't work\n",
    "logging.addLevelName( logging.WARNING, \"\\033[1;31m%s\\033[1;0m\" % logging.getLevelName(logging.WARNING))\n",
    "\n",
    "logging.warning(\"This is a warning message\")\n",
    "logging.error(\"This is an error message\")\n",
    "logging.debug(\"This is an debug message\")"
   ]
  },
  {
   "cell_type": "markdown",
   "metadata": {},
   "source": [
    "Howevever this not always works. For example, adding time in the format didn't work (they would work if run as first lines). In other words, trying to redefine format or level by calling basicconfig on an already configured logging module is not a good idea. "
   ]
  },
  {
   "cell_type": "code",
   "execution_count": 8,
   "metadata": {},
   "outputs": [
    {
     "name": "stderr",
     "output_type": "stream",
     "text": [
      "\u001b[1;31mWARNING\u001b[1;0m:root:is when this event was logged.\n"
     ]
    }
   ],
   "source": [
    "# this works only if it is the first time you run basicConfig.\n",
    "\n",
    "import logging\n",
    "logging.basicConfig(format='%(asctime)s %(message)s')\n",
    "logging.warning('is when this event was logged.')"
   ]
  },
  {
   "cell_type": "code",
   "execution_count": 9,
   "metadata": {},
   "outputs": [
    {
     "name": "stderr",
     "output_type": "stream",
     "text": [
      "DEBUG:root:DEBUG\n",
      "INFO:root:Info\n",
      "\u001b[1;31mWARNING\u001b[1;0m:root:is when this event was logged.\n",
      "ERROR:root:is when this event was logged.\n"
     ]
    }
   ],
   "source": [
    "# DAvvero non funziona su nessun livello\n",
    "\n",
    "import logging\n",
    "logging.basicConfig(format='%(asctime)s %(message)s',level=logging.DEBUG)\n",
    "\n",
    "logging.debug('DEBUG')\n",
    "logging.info('Info')\n",
    "logging.warning('is when this event was logged.')\n",
    "logging.error('is when this event was logged.')"
   ]
  },
  {
   "cell_type": "code",
   "execution_count": 10,
   "metadata": {},
   "outputs": [
    {
     "name": "stderr",
     "output_type": "stream",
     "text": [
      "%(asctime)s %(message)s:root:DEBUG\n",
      "INFO:root:Info\n",
      "\u001b[1;31mWARNING\u001b[1;0m:root:is when this event was logged.\n",
      "ERROR:root:is when this event was logged.\n"
     ]
    }
   ],
   "source": [
    "# Mentre questo\n",
    "\n",
    "import logging\n",
    "logging.addLevelName( logging.DEBUG, '%(asctime)s %(message)s') \n",
    "#logging.addLevelName( logging.WARNING, \"\\033[1;31m%s\\033[1;0m\" % logging.getLevelName(logging.WARNING)) #funziona colore\n",
    "\n",
    "logging.debug('DEBUG')\n",
    "logging.info('Info')\n",
    "logging.warning('is when this event was logged.')\n",
    "logging.error('is when this event was logged.')"
   ]
  },
  {
   "cell_type": "markdown",
   "metadata": {},
   "source": [
    "Note also that I am calling directly ``logging``, meaning I am working on the same instance of logger. As stated in the tutorial, this makes it difficult to understand from where the logger is called."
   ]
  },
  {
   "cell_type": "code",
   "execution_count": 11,
   "metadata": {},
   "outputs": [
    {
     "name": "stdout",
     "output_type": "stream",
     "text": [
      "__main__\n",
      "logging:  <module 'logging' from 'c:\\\\Users\\\\kovor\\\\anaconda3\\\\envs\\\\folder_explorer\\\\lib\\\\logging\\\\__init__.py'>\n",
      "logger:  <RootLogger root (%(asctime)s %(message)s)>\n",
      "\n",
      "In Logging Function:\n",
      "logging:  <module 'logging' from 'c:\\\\Users\\\\kovor\\\\anaconda3\\\\envs\\\\folder_explorer\\\\lib\\\\logging\\\\__init__.py'>\n",
      "name __main__\n",
      "logger: <RootLogger root (%(asctime)s %(message)s)>\n"
     ]
    }
   ],
   "source": [
    "import logging\n",
    "\n",
    "def logging_function():\n",
    "    print(\"\\nIn Logging Function:\")\n",
    "    print(\"logging: \",logging)\n",
    "    l = logging.getLogger()\n",
    "    print(\"name\",__name__)\n",
    "    print('logger:',l)\n",
    "    \n",
    "print(__name__)\n",
    "print(\"logging: \",logging)\n",
    "\n",
    "print(\"logger: \",logging.getLogger())\n",
    "\n",
    "logging_function()\n"
   ]
  },
  {
   "cell_type": "code",
   "execution_count": null,
   "metadata": {},
   "outputs": [],
   "source": []
  }
 ],
 "metadata": {
  "interpreter": {
   "hash": "93ea9d10f7f87b1e5617a57d4a8ab277b3fe27d6335131d8465f1dce28e19dbb"
  },
  "kernelspec": {
   "display_name": "Python 3",
   "language": "python",
   "name": "python3"
  },
  "language_info": {
   "codemirror_mode": {
    "name": "ipython",
    "version": 3
   },
   "file_extension": ".py",
   "mimetype": "text/x-python",
   "name": "python",
   "nbconvert_exporter": "python",
   "pygments_lexer": "ipython3",
   "version": "3.8.8"
  },
  "widgets": {
   "application/vnd.jupyter.widget-state+json": {
    "state": {},
    "version_major": 2,
    "version_minor": 0
   }
  }
 },
 "nbformat": 4,
 "nbformat_minor": 4
}
