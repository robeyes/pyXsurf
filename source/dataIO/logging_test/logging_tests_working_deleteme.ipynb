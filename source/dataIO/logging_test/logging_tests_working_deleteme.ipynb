{
 "cells": [
  {
   "cell_type": "code",
   "execution_count": null,
   "metadata": {},
   "outputs": [
    {
     "ename": "",
     "evalue": "",
     "output_type": "error",
     "traceback": [
      "\u001b[1;31mFailed to start the Kernel. \n",
      "AttributeError: partially initialized module 'logging' has no attribute 'getLogger' (most likely due to a circular import). \n",
      "View Jupyter <a href='command:jupyter.viewOutput'>log</a> for further details."
     ]
    }
   ],
   "source": [
    "print('cane')"
   ]
  },
  {
   "cell_type": "markdown",
   "metadata": {},
   "source": [
    "This file fails with misterious error above if just started from a folder in ``C:\\Users\\kovor\\Documents\\python\\pyXTel\\source\\dataIO\\logging_test``\n",
    "\n",
    "The error happens for any command, not sure if related to path or to imports in later cells"
   ]
  },
  {
   "cell_type": "code",
   "execution_count": null,
   "metadata": {},
   "outputs": [
    {
     "ename": "",
     "evalue": "",
     "output_type": "error",
     "traceback": [
      "\u001b[1;31mFailed to start the Kernel. \n",
      "AttributeError: partially initialized module 'logging' has no attribute 'getLogger' (most likely due to a circular import). \n",
      "View Jupyter <a href='command:jupyter.viewOutput'>log</a> for further details."
     ]
    }
   ],
   "source": [
    "pwd"
   ]
  },
  {
   "cell_type": "code",
   "execution_count": 2,
   "metadata": {},
   "outputs": [],
   "source": [
    "import logging"
   ]
  },
  {
   "cell_type": "markdown",
   "metadata": {},
   "source": [
    "## Logger Names\n",
    "\n",
    "Starting from obvious source https://docs.python.org/3/howto/logging.html most minimalistic example:"
   ]
  },
  {
   "cell_type": "code",
   "execution_count": 3,
   "metadata": {},
   "outputs": [
    {
     "name": "stderr",
     "output_type": "stream",
     "text": [
      "WARNING:root:This is a warning message\n"
     ]
    }
   ],
   "source": [
    "logging.basicConfig(level=logging.DEBUG)\n",
    "logging.warning('This is a warning message') "
   ]
  },
  {
   "cell_type": "markdown",
   "metadata": {},
   "source": [
    "there are a bunch of operations I can do with these few lines: I have set the level for which we have a log, and i implicitely chose to output on console (I didn't include a filename argument in calling ``.basicConfig``).\n",
    "\n",
    "I can control output format: \n",
    "\n",
    "    logging.basicConfig(format='%(levelname)s:%(message)s', level=logging.DEBUG)"
   ]
  },
  {
   "cell_type": "markdown",
   "metadata": {},
   "source": [
    "Here is a list of format codes which can be used, \n",
    "https://docs.python.org/3/library/logging.html#logrecord-attributes,\n",
    "you can even modify colors or font formats (on supported terminals)."
   ]
  },
  {
   "cell_type": "markdown",
   "metadata": {},
   "source": [
    "For example, next lines modify format of WARNING messages only (bold, red), works e.g. in IPython terminal. "
   ]
  },
  {
   "cell_type": "code",
   "execution_count": 4,
   "metadata": {},
   "outputs": [
    {
     "name": "stderr",
     "output_type": "stream",
     "text": [
      "\u001b[1;31mWARNING\u001b[1;0m:root:This is a warning message\n",
      "ERROR:root:This is an error message\n",
      "DEBUG:root:This is an debug message\n"
     ]
    }
   ],
   "source": [
    "logging.basicConfig(format='%(asctime)s %(message)s') #this applies to current level DEBUG, but doens't work\n",
    "logging.addLevelName( logging.WARNING, \"\\033[1;31m%s\\033[1;0m\" % logging.getLevelName(logging.WARNING))\n",
    "\n",
    "logging.warning(\"This is a warning message\")\n",
    "logging.error(\"This is an error message\")\n",
    "logging.debug(\"This is an debug message\")"
   ]
  },
  {
   "cell_type": "markdown",
   "metadata": {},
   "source": [
    "Howevever this not always works. For example, adding time in the format didn't work (they would work if run as first lines). In other words, trying to redefine format or level by calling basicconfig on an already configured logging module is not a good idea. "
   ]
  },
  {
   "cell_type": "code",
   "execution_count": 5,
   "metadata": {},
   "outputs": [
    {
     "name": "stderr",
     "output_type": "stream",
     "text": [
      "\u001b[1;31mWARNING\u001b[1;0m:root:is when this event was logged.\n"
     ]
    }
   ],
   "source": [
    "# this works only if it is the first time you run basicConfig.\n",
    "\n",
    "import logging\n",
    "logging.basicConfig(format='%(asctime)s %(message)s')\n",
    "logging.warning('is when this event was logged.')"
   ]
  },
  {
   "cell_type": "code",
   "execution_count": 6,
   "metadata": {},
   "outputs": [
    {
     "name": "stderr",
     "output_type": "stream",
     "text": [
      "DEBUG:root:DEBUG\n",
      "INFO:root:Info\n",
      "\u001b[1;31mWARNING\u001b[1;0m:root:is when this event was logged.\n",
      "ERROR:root:is when this event was logged.\n"
     ]
    }
   ],
   "source": [
    "# DAvvero non funziona su nessun livello\n",
    "\n",
    "import logging\n",
    "logging.basicConfig(format='%(asctime)s %(message)s',level=logging.DEBUG)\n",
    "\n",
    "logging.debug('DEBUG')\n",
    "logging.info('Info')\n",
    "logging.warning('is when this event was logged.')\n",
    "logging.error('is when this event was logged.')"
   ]
  },
  {
   "cell_type": "code",
   "execution_count": 7,
   "metadata": {},
   "outputs": [
    {
     "name": "stderr",
     "output_type": "stream",
     "text": [
      "%(asctime)s %(message)s:root:DEBUG\n",
      "INFO:root:Info\n",
      "\u001b[1;31mWARNING\u001b[1;0m:root:is when this event was logged.\n",
      "ERROR:root:is when this event was logged.\n"
     ]
    }
   ],
   "source": [
    "# Mentre questo\n",
    "\n",
    "import logging\n",
    "logging.addLevelName( logging.DEBUG, '%(asctime)s %(message)s') \n",
    "#logging.addLevelName( logging.WARNING, \"\\033[1;31m%s\\033[1;0m\" % logging.getLevelName(logging.WARNING)) #funziona colore\n",
    "\n",
    "logging.debug('DEBUG')\n",
    "logging.info('Info')\n",
    "logging.warning('is when this event was logged.')\n",
    "logging.error('is when this event was logged.')"
   ]
  },
  {
   "cell_type": "markdown",
   "metadata": {},
   "source": [
    "Note also that I am calling directly ``logging``, meaning I am working on the same instance of logger. As stated in the tutorial, this makes it difficult to understand from where the logger is called."
   ]
  },
  {
   "cell_type": "code",
   "execution_count": 8,
   "metadata": {},
   "outputs": [
    {
     "name": "stdout",
     "output_type": "stream",
     "text": [
      "__main__\n",
      "logging:  <module 'logging' from 'c:\\\\Users\\\\kovor\\\\anaconda3\\\\envs\\\\folder_explorer\\\\lib\\\\logging\\\\__init__.py'>\n",
      "logger:  <RootLogger root (%(asctime)s %(message)s)>\n",
      "\n",
      "In Logging Function:\n",
      "logging:  <module 'logging' from 'c:\\\\Users\\\\kovor\\\\anaconda3\\\\envs\\\\folder_explorer\\\\lib\\\\logging\\\\__init__.py'>\n",
      "name __main__\n",
      "logger: <RootLogger root (%(asctime)s %(message)s)>\n"
     ]
    }
   ],
   "source": [
    "import logging\n",
    "\n",
    "def logging_function():\n",
    "    print(\"\\nIn Logging Function:\")\n",
    "    print(\"logging: \",logging)\n",
    "    l = logging.getLogger()\n",
    "    print(\"name\",__name__)\n",
    "    print('logger:',l)\n",
    "    \n",
    "print(__name__)\n",
    "print(\"logging: \",logging)\n",
    "\n",
    "print(\"logger: \",logging.getLogger())\n",
    "\n",
    "logging_function()\n"
   ]
  },
  {
   "cell_type": "markdown",
   "metadata": {},
   "source": [
    "Note that calling a logger inside a function from a cell, gives a single root __name__ = \"__main__\" logger and the functions are not recognized, e.g.:"
   ]
  },
  {
   "cell_type": "code",
   "execution_count": 9,
   "metadata": {},
   "outputs": [
    {
     "name": "stdout",
     "output_type": "stream",
     "text": [
      "__main__\n",
      "logging:  <module 'logging' from 'c:\\\\Users\\\\kovor\\\\anaconda3\\\\envs\\\\folder_explorer\\\\lib\\\\logging\\\\__init__.py'>\n",
      "logger:  <Logger __main__ (%(asctime)s %(message)s)> <RootLogger root (%(asctime)s %(message)s)>\n",
      "\n",
      "In Logging Function:\n",
      "logging:  <module 'logging' from 'c:\\\\Users\\\\kovor\\\\anaconda3\\\\envs\\\\folder_explorer\\\\lib\\\\logging\\\\__init__.py'>\n",
      "logger: <Logger __main__ (%(asctime)s %(message)s)> <RootLogger root (%(asctime)s %(message)s)>\n"
     ]
    }
   ],
   "source": [
    "# dava errore mortale, ora funziona\n",
    "# E' forse bastato eliminare reset e autoreload adll'inizio?\n",
    "\n",
    "import logging\n",
    "\n",
    "def logging_function():\n",
    "    \"\"\"A function which prints and log info. No return value\"\"\"\n",
    "    \n",
    "    print(\"\\nIn Logging Function:\")\n",
    "    print(\"logging: \",logging)\n",
    "    l = logging.getLogger(__name__)\n",
    "    print('logger:',l,logging.getLogger())\n",
    "    \n",
    "print(__name__)\n",
    "print(\"logging: \",logging)\n",
    "\n",
    "print(\"logger: \",logging.getLogger(__name__),logging.getLogger())\n",
    "\n",
    "logging_function()\n"
   ]
  },
  {
   "cell_type": "code",
   "execution_count": 10,
   "metadata": {},
   "outputs": [
    {
     "data": {
      "text/plain": [
       "'c:\\\\Users\\\\kovor\\\\Documents\\\\python\\\\pyXTel\\\\source\\\\dataIO'"
      ]
     },
     "execution_count": 10,
     "metadata": {},
     "output_type": "execute_result"
    }
   ],
   "source": [
    "pwd"
   ]
  },
  {
   "cell_type": "code",
   "execution_count": 11,
   "metadata": {},
   "outputs": [
    {
     "name": "stderr",
     "output_type": "stream",
     "text": [
      "INFO:root:Start logging\n",
      "\u001b[1;41mERROR\u001b[1;0m:root:This error message is called with logging.error\n",
      "\u001b[1;41mERROR\u001b[1;0m:root:e' lo stesso che stampare direttamente la scritta EROR with color codes: :\n",
      "\u001b[1;41mEROR\u001b[1;0m\n"
     ]
    },
    {
     "name": "stdout",
     "output_type": "stream",
     "text": [
      "__main__\n",
      "logging:  <module 'logging' from 'c:\\\\Users\\\\kovor\\\\anaconda3\\\\envs\\\\folder_explorer\\\\lib\\\\logging\\\\__init__.py'>\n",
      "logger:  <Logger __main__ (%(asctime)s %(message)s)> <RootLogger root (%(asctime)s %(message)s)>\n",
      "\n",
      "In Logging Function:\n",
      "logging:  <module 'logging' from 'c:\\\\Users\\\\kovor\\\\anaconda3\\\\envs\\\\folder_explorer\\\\lib\\\\logging\\\\__init__.py'>\n",
      "logger: <Logger logs (%(asctime)s %(message)s)> <RootLogger root (%(asctime)s %(message)s)>\n"
     ]
    }
   ],
   "source": [
    "\n",
    "# sys.path.append('dataIO\\\\')\n",
    "from logs import logging_function as lf\n",
    "    \n",
    "print(__name__)\n",
    "print(\"logging: \",logging)\n",
    "\n",
    "print(\"logger: \",logging.getLogger(__name__),logging.getLogger())\n",
    "\n",
    "lf()\n"
   ]
  },
  {
   "cell_type": "markdown",
   "metadata": {},
   "source": [
    "This import same code as previous cell from an external file, note that function names are correctly logged."
   ]
  },
  {
   "cell_type": "markdown",
   "metadata": {},
   "source": [
    "## Logging on multiple sources at same time (possibly with a single command)"
   ]
  },
  {
   "cell_type": "code",
   "execution_count": null,
   "metadata": {},
   "outputs": [],
   "source": []
  },
  {
   "cell_type": "markdown",
   "metadata": {},
   "source": [
    "For a finer tuning, StreamHandlers can be manipulated."
   ]
  },
  {
   "cell_type": "markdown",
   "metadata": {},
   "source": [
    "However this textbook example, if launched multiple times add an handler every time:"
   ]
  },
  {
   "cell_type": "code",
   "execution_count": 12,
   "metadata": {},
   "outputs": [
    {
     "name": "stderr",
     "output_type": "stream",
     "text": [
      "2022-05-23 18:47:49,970 - __main__ - %(asctime)s %(message)s - debug message\n",
      "%(asctime)s %(message)s:__main__:debug message\n",
      "2022-05-23 18:47:49,972 - __main__ - INFO - info message\n",
      "INFO:__main__:info message\n",
      "2022-05-23 18:47:49,973 - __main__ - \u001b[1;31m\u001b[1;31mWARNING\u001b[1;0m\u001b[1;0m - warn message\n",
      "\u001b[1;31m\u001b[1;31mWARNING\u001b[1;0m\u001b[1;0m:__main__:warn message\n",
      "2022-05-23 18:47:49,975 - __main__ - \u001b[1;41mERROR\u001b[1;0m - error message\n",
      "\u001b[1;41mERROR\u001b[1;0m:__main__:error message\n",
      "2022-05-23 18:47:49,976 - __main__ - CRITICAL - critical message\n",
      "CRITICAL:__main__:critical message\n"
     ]
    }
   ],
   "source": [
    "import logging\n",
    "\n",
    "# create logger\n",
    "logger = logging.getLogger(__name__)\n",
    "logger.setLevel(logging.DEBUG)\n",
    "\n",
    "# create console handler and set level to debug\n",
    "ch = logging.StreamHandler()\n",
    "ch.setLevel(logging.DEBUG)\n",
    "\n",
    "# add formatter to ch\n",
    "ch.setFormatter(logging.Formatter('%(asctime)s - %(name)s - %(levelname)s - %(message)s'))\n",
    "\n",
    "# add ch to logger\n",
    "logger.addHandler(ch)\n",
    "\n",
    "# 'application' code\n",
    "logger.debug('debug message')\n",
    "logger.info('info message')\n",
    "logger.warning('warn message')\n",
    "logger.error('error message')\n",
    "logger.critical('critical message')"
   ]
  },
  {
   "cell_type": "code",
   "execution_count": 13,
   "metadata": {},
   "outputs": [
    {
     "name": "stdout",
     "output_type": "stream",
     "text": [
      "<Logger __main__ (%(asctime)s %(message)s)>\n",
      "<StreamHandler stderr (%(asctime)s %(message)s)>\n"
     ]
    }
   ],
   "source": [
    "print(logger)\n",
    "print(ch)"
   ]
  },
  {
   "cell_type": "code",
   "execution_count": 14,
   "metadata": {},
   "outputs": [
    {
     "data": {
      "text/plain": [
       "[<StreamHandler stderr (%(asctime)s %(message)s)>]"
      ]
     },
     "execution_count": 14,
     "metadata": {},
     "output_type": "execute_result"
    }
   ],
   "source": [
    "logger.handlers"
   ]
  },
  {
   "cell_type": "markdown",
   "metadata": {},
   "source": [
    "### Avoiding Multiple instances"
   ]
  },
  {
   "cell_type": "code",
   "execution_count": 15,
   "metadata": {},
   "outputs": [],
   "source": [
    "def reset_logger(logger):\n",
    "    \"\"\"remove all handlersr in place. \"\"\"\n",
    "    for i in range(len(logger.handlers)):\n",
    "        logger.handlers.pop()\n",
    "        \n",
    "reset_logger(logger)"
   ]
  },
  {
   "cell_type": "code",
   "execution_count": 16,
   "metadata": {},
   "outputs": [],
   "source": [
    "from logs import reset_logger\n",
    "reset_logger(logger)  # logger is my \n"
   ]
  },
  {
   "cell_type": "code",
   "execution_count": 17,
   "metadata": {},
   "outputs": [
    {
     "data": {
      "text/plain": [
       "[]"
      ]
     },
     "execution_count": 17,
     "metadata": {},
     "output_type": "execute_result"
    }
   ],
   "source": [
    "logger.handlers"
   ]
  },
  {
   "cell_type": "code",
   "execution_count": 18,
   "metadata": {},
   "outputs": [],
   "source": [
    "# Questo era in dataIO.logger e trattava un problema che mi \n",
    "# avveniva spesso in passato su notebook in cui avevo definito handlers \n",
    "# multipli per loggare sia su file che su console\n",
    "\n",
    "import logging\n",
    "\n",
    "\n",
    "def start_logger(cfgfile=None):\n",
    "\n",
    "    #if logger exists (this is based only in checking it has some handler) \n",
    "    # recover the current logger without adding handlers, if not load from file\n",
    "    #  or if config file is not provided, uses default options for logger\n",
    "       \n",
    "    print(\"N: \",__name__) # qui mostra non serve perche sara start_logger    \n",
    "    try:\n",
    "        logger=logging.getLogger()\n",
    "        print(\"logger %s existing\"%logger)\n",
    "    except:\n",
    "        print(\"logger non existing.\")\n",
    "        \n",
    "    logger=logging.getLogger()\n",
    "    if len(logger.handlers) == 0:\n",
    "        \"\"\"not sure about original indentation here.\"\"\"   \n",
    "        if cfgfile is not None:\n",
    "            logger=logging.config.fileConfig(cfgfile)\n",
    "        else:\n",
    "            logging.basicConfig(format='%(asctime)s %(message)s')  #set default     \n",
    "            logger = logging.getLogger()\n",
    "            #print('cfgfile missing, and no logger existing, not sure what happens now.')\n",
    "            \n",
    "    return logger\n"
   ]
  },
  {
   "cell_type": "code",
   "execution_count": null,
   "metadata": {},
   "outputs": [],
   "source": []
  },
  {
   "cell_type": "code",
   "execution_count": 19,
   "metadata": {},
   "outputs": [
    {
     "name": "stderr",
     "output_type": "stream",
     "text": [
      "%(asctime)s %(message)s:root:debug message\n",
      "INFO:root:info message\n",
      "\u001b[1;31m\u001b[1;31mWARNING\u001b[1;0m\u001b[1;0m:root:warn message\n",
      "\u001b[1;41mERROR\u001b[1;0m:root:error message\n",
      "CRITICAL:root:critical message\n"
     ]
    },
    {
     "name": "stdout",
     "output_type": "stream",
     "text": [
      "N:  __main__\n",
      "logger <RootLogger root (%(asctime)s %(message)s)> existing\n"
     ]
    }
   ],
   "source": [
    "logger = start_logger()\n",
    "# 'application' code\n",
    "logger.debug('debug message')\n",
    "logger.info('info message')\n",
    "logger.warning('warn message')\n",
    "logger.error('error message')\n",
    "logger.critical('critical message')"
   ]
  },
  {
   "cell_type": "code",
   "execution_count": 20,
   "metadata": {},
   "outputs": [
    {
     "name": "stderr",
     "output_type": "stream",
     "text": [
      "INFO:root:Start logging\n",
      "\u001b[1;41m\u001b[1;41mERROR\u001b[1;0m\u001b[1;0m:root:This error message is called with logging.error\n",
      "\u001b[1;41m\u001b[1;41mERROR\u001b[1;0m\u001b[1;0m:root:e' lo stesso che stampare direttamente la scritta EROR with color codes: :\n",
      "\u001b[1;41mEROR\u001b[1;0m\n",
      "%(asctime)s %(message)s:root:debug message\n",
      "INFO:root:info message\n",
      "\u001b[1;31m\u001b[1;31m\u001b[1;31mWARNING\u001b[1;0m\u001b[1;0m\u001b[1;0m:root:warn message\n",
      "\u001b[1;41m\u001b[1;41mERROR\u001b[1;0m\u001b[1;0m:root:error message\n",
      "CRITICAL:root:critical message\n"
     ]
    },
    {
     "name": "stdout",
     "output_type": "stream",
     "text": [
      "N:  dataIO.logs\n",
      "logger <RootLogger root (%(asctime)s %(message)s)> existing\n"
     ]
    }
   ],
   "source": [
    "from dataIO.logs import start_logger\n",
    "\n",
    "logger = start_logger()\n",
    "# 'application' code\n",
    "logger.debug('debug message')\n",
    "logger.info('info message')\n",
    "logger.warning('warn message')\n",
    "logger.error('error message')\n",
    "logger.critical('critical message')"
   ]
  },
  {
   "cell_type": "code",
   "execution_count": 21,
   "metadata": {},
   "outputs": [
    {
     "data": {
      "text/plain": [
       "[<StreamHandler stderr (NOTSET)>]"
      ]
     },
     "execution_count": 21,
     "metadata": {},
     "output_type": "execute_result"
    }
   ],
   "source": [
    "logger.handlers"
   ]
  },
  {
   "cell_type": "markdown",
   "metadata": {},
   "source": [
    "## Enable/Disable capture of standard outptut"
   ]
  },
  {
   "cell_type": "markdown",
   "metadata": {},
   "source": [
    "## Snapshots"
   ]
  },
  {
   "cell_type": "code",
   "execution_count": null,
   "metadata": {},
   "outputs": [],
   "source": []
  }
 ],
 "metadata": {
  "interpreter": {
   "hash": "93ea9d10f7f87b1e5617a57d4a8ab277b3fe27d6335131d8465f1dce28e19dbb"
  },
  "kernelspec": {
   "display_name": "Python 3.8.8 ('folder_explorer')",
   "language": "python",
   "name": "python3"
  },
  "language_info": {
   "codemirror_mode": {
    "name": "ipython",
    "version": 3
   },
   "file_extension": ".py",
   "mimetype": "text/x-python",
   "name": "python",
   "nbconvert_exporter": "python",
   "pygments_lexer": "ipython3",
   "version": "3.8.8"
  },
  "orig_nbformat": 4
 },
 "nbformat": 4,
 "nbformat_minor": 2
}
